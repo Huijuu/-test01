{
 "cells": [
  {
   "cell_type": "markdown",
   "metadata": {},
   "source": [
    "## 正規表達式應用範例\n",
    "- 背景：我們有一個list of unicode, (他們是javascipt code）\n",
    "- 目標：想要從每一個unicode裡面提取出，年，月份，以及一個數值。然後組正一個dictionary。最後再把多個dictionary放進一個list"
   ]
  },
  {
   "cell_type": "code",
   "execution_count": 1,
   "metadata": {
    "collapsed": false
   },
   "outputs": [
    {
     "name": "stdout",
     "output_type": "stream",
     "text": [
      "[u'[{\"v\":new Date(2004, 0, 16, 20, 0),\"f\":\"2004\\u5e741\\u6708\"},null,null,57,null,null,true]', u'[{\"v\":new Date(2004, 1, 15, 20, 0),\"f\":\"2004\\u5e742\\u6708\"},null,null,75,null,null,true]', u'[{\"v\":new Date(2004, 2, 16, 20, 0),\"f\":\"2004\\u5e743\\u6708\"},null,null,56,null,null,true]', u'[{\"v\":new Date(2004, 3, 16, 8, 0),\"f\":\"2004\\u5e744\\u6708\"},null,null,51,null,null,true]', u'[{\"v\":new Date(2004, 4, 16, 20, 0),\"f\":\"2004\\u5e745\\u6708\"},null,null,50,null,null,true]', u'[{\"v\":new Date(2004, 5, 16, 8, 0),\"f\":\"2004\\u5e746\\u6708\"},null,null,61,null,null,true]', u'[{\"v\":new Date(2004, 6, 16, 20, 0),\"f\":\"2004\\u5e747\\u6708\"},null,null,71,null,null,true]', u'[{\"v\":new Date(2004, 7, 16, 20, 0),\"f\":\"2004\\u5e748\\u6708\"},null,null,61,null,null,true]', u'[{\"v\":new Date(2004, 8, 16, 8, 0),\"f\":\"2004\\u5e749\\u6708\"},null,null,45,null,null,true]', u'[{\"v\":new Date(2004, 9, 16, 20, 0),\"f\":\"2004\\u5e7410\\u6708\"},null,null,51,null,null,true]']\n"
     ]
    }
   ],
   "source": [
    "# 我們有一個list of unicode\n",
    "datalist = [u'[{\"v\":new Date(2004, 0, 16, 20, 0),\"f\":\"2004\\u5e741\\u6708\"},null,null,57,null,null,true]',\n",
    " u'[{\"v\":new Date(2004, 1, 15, 20, 0),\"f\":\"2004\\u5e742\\u6708\"},null,null,75,null,null,true]',\n",
    " u'[{\"v\":new Date(2004, 2, 16, 20, 0),\"f\":\"2004\\u5e743\\u6708\"},null,null,56,null,null,true]',\n",
    " u'[{\"v\":new Date(2004, 3, 16, 8, 0),\"f\":\"2004\\u5e744\\u6708\"},null,null,51,null,null,true]',\n",
    " u'[{\"v\":new Date(2004, 4, 16, 20, 0),\"f\":\"2004\\u5e745\\u6708\"},null,null,50,null,null,true]',\n",
    " u'[{\"v\":new Date(2004, 5, 16, 8, 0),\"f\":\"2004\\u5e746\\u6708\"},null,null,61,null,null,true]',\n",
    " u'[{\"v\":new Date(2004, 6, 16, 20, 0),\"f\":\"2004\\u5e747\\u6708\"},null,null,71,null,null,true]',\n",
    " u'[{\"v\":new Date(2004, 7, 16, 20, 0),\"f\":\"2004\\u5e748\\u6708\"},null,null,61,null,null,true]',\n",
    " u'[{\"v\":new Date(2004, 8, 16, 8, 0),\"f\":\"2004\\u5e749\\u6708\"},null,null,45,null,null,true]',\n",
    " u'[{\"v\":new Date(2004, 9, 16, 20, 0),\"f\":\"2004\\u5e7410\\u6708\"},null,null,51,null,null,true]']\n",
    "print(datalist)"
   ]
  },
  {
   "cell_type": "code",
   "execution_count": 4,
   "metadata": {
    "collapsed": false
   },
   "outputs": [
    {
     "name": "stdout",
     "output_type": "stream",
     "text": [
      "<type 'unicode'>\n",
      "78\n",
      "[{\"v\":new Date(2004, 0, 16, 20, 0),\"f\":\"2004年1月\"},null,null,57,null,null,true]\n"
     ]
    }
   ],
   "source": [
    "# 每一個unicode長這樣\n",
    "print(type(datalist[0]))\n",
    "print(len(datalist[0]))\n",
    "print(datalist[0])\n",
    "\n",
    "# 我們想要提取2014年，1月，跟值57"
   ]
  },
  {
   "cell_type": "code",
   "execution_count": 3,
   "metadata": {
    "collapsed": false
   },
   "outputs": [
    {
     "name": "stdout",
     "output_type": "stream",
     "text": [
      "[{'month': u'1', 'value': u'57', 'year': u'2004'}, {'month': u'2', 'value': u'75', 'year': u'2004'}, {'month': u'3', 'value': u'56', 'year': u'2004'}, {'month': u'4', 'value': u'51', 'year': u'2004'}, {'month': u'5', 'value': u'50', 'year': u'2004'}, {'month': u'6', 'value': u'61', 'year': u'2004'}, {'month': u'7', 'value': u'71', 'year': u'2004'}, {'month': u'8', 'value': u'61', 'year': u'2004'}, {'month': u'9', 'value': u'45', 'year': u'2004'}, {'month': u'10', 'value': u'51', 'year': u'2004'}]\n"
     ]
    }
   ],
   "source": [
    "# 因為我們要parse的是Javascript code(字串)，所以他沒辦法被轉換為Python的data structure，\n",
    "# 這邊我們只能透過regex（正規表達式）的方式來做字串的extract。\n",
    "import re\n",
    "\n",
    "res_list = []\n",
    "for data in datalist:\n",
    "    #print(data)\n",
    "    res_dict = {}\n",
    "    res = re.search(',([0-9]+),', data) # 搜尋包含在兩個,(comma)之中的任何長度數字\n",
    "    res.group(1) # group(1) 表示我們()內的capture group, group(0)則是整個pattern的match\n",
    "    #print(res.group(0))\n",
    "    pat='([0-9]+)年([0-9]+)月'.decode(\"utf8\") # 設定我們抓取中文的regex，注意這邊要先把str變成unicode，並且設定了兩個capture group\n",
    "    #print(repr(pat))\n",
    "    res2 = re.search(pat, data)\n",
    "    #print(res2)\n",
    "    res_dict['value'] = res.group(1)\n",
    "    res_dict['year'] = res2.group(1) # group1是年\n",
    "    res_dict['month'] = res2.group(2) # group2是月\n",
    "    res_list.append(res_dict)\n",
    "print(res_list)"
   ]
  },
  {
   "cell_type": "code",
   "execution_count": null,
   "metadata": {
    "collapsed": true
   },
   "outputs": [],
   "source": []
  }
 ],
 "metadata": {
  "kernelspec": {
   "display_name": "Python 2",
   "language": "python",
   "name": "python2"
  },
  "language_info": {
   "codemirror_mode": {
    "name": "ipython",
    "version": 2
   },
   "file_extension": ".py",
   "mimetype": "text/x-python",
   "name": "python",
   "nbconvert_exporter": "python",
   "pygments_lexer": "ipython2",
   "version": "2.7.11"
  },
  "widgets": {
   "state": {},
   "version": "1.1.1"
  }
 },
 "nbformat": 4,
 "nbformat_minor": 0
}
