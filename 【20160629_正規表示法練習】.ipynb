{
 "cells": [
  {
   "cell_type": "markdown",
   "metadata": {},
   "source": [
    "#  正規表示(regex)關鍵字:\n",
    "\n",
    "+ \".\"   任何字元,數字,符號,及空格\n",
    "+ \"\\w\"  任何字元,數字\n",
    "+ \"\\d\"  任何數字\n",
    "+ \"\\s\"  任何空格\n",
    "+ \"+\"   1個或1個以上\n",
    "+ \"*\"   0個或0個以上\n",
    "\n",
    "## 基本Pattern\n",
    "1. a-z, A-Z, 0-9 -- 一對一match\n",
    "2. .(句點) -- 任意字元，除\\n\n",
    "3. \\w -- [a-zA-Z0-9_]\n",
    "4. \\s -- [   \\t\\n\\r\\f] 空白符號\n",
    "5. \\d -- [0-9]\n",
    "6. ^ -- 開頭\n",
    "7. $ -- 結尾"
   ]
  },
  {
   "cell_type": "code",
   "execution_count": 1,
   "metadata": {
    "collapsed": true
   },
   "outputs": [],
   "source": [
    "import re"
   ]
  },
  {
   "cell_type": "code",
   "execution_count": 2,
   "metadata": {
    "collapsed": false
   },
   "outputs": [
    {
     "name": "stdout",
     "output_type": "stream",
     "text": [
      "abc\n"
     ]
    }
   ],
   "source": [
    "string = 'abc123abc456abc789abc'\n",
    "match = re.search('abc', string)\n",
    "print match.group()"
   ]
  },
  {
   "cell_type": "code",
   "execution_count": 3,
   "metadata": {
    "collapsed": false
   },
   "outputs": [
    {
     "name": "stdout",
     "output_type": "stream",
     "text": [
      "['abc', 'abc', 'abc', 'abc']\n"
     ]
    }
   ],
   "source": [
    "match = re.findall('abc', string)\n",
    "print match"
   ]
  },
  {
   "cell_type": "code",
   "execution_count": 4,
   "metadata": {
    "collapsed": true
   },
   "outputs": [],
   "source": [
    "def find(pattern, string):\n",
    "    \n",
    "    match = re.search(pattern,string)\n",
    "    if match: print match.group()\n",
    "\n",
    "    else: print \"not find\""
   ]
  },
  {
   "cell_type": "code",
   "execution_count": null,
   "metadata": {
    "collapsed": true
   },
   "outputs": [],
   "source": []
  }
 ],
 "metadata": {
  "kernelspec": {
   "display_name": "Python 2",
   "language": "python",
   "name": "python2"
  },
  "language_info": {
   "codemirror_mode": {
    "name": "ipython",
    "version": 2
   },
   "file_extension": ".py",
   "mimetype": "text/x-python",
   "name": "python",
   "nbconvert_exporter": "python",
   "pygments_lexer": "ipython2",
   "version": "2.7.11"
  }
 },
 "nbformat": 4,
 "nbformat_minor": 0
}
