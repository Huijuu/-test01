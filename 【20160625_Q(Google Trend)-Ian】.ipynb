{
 "cells": [
  {
   "cell_type": "code",
   "execution_count": 1,
   "metadata": {
    "collapsed": true
   },
   "outputs": [],
   "source": [
    "from __future__ import print_function # In Python2, print is a statement, in Python3, print is a function"
   ]
  },
  {
   "cell_type": "code",
   "execution_count": 2,
   "metadata": {
    "collapsed": true
   },
   "outputs": [],
   "source": [
    "import requests"
   ]
  },
  {
   "cell_type": "markdown",
   "metadata": {},
   "source": [
    "# 1. Google Trend(Char only)\n",
    "https://www.google.com.tw/trends/fetchComponent?q=%2Fm%2F016c3c&date=now%207-d&cid=TIMESERIES_GRAPH_0&export=5&w=0&h=0&nhf=1\n",
    "https://www.google.com.tw/trends/explore#q=%E4%B9%9D%E4%BB%BD"
   ]
  },
  {
   "cell_type": "markdown",
   "metadata": {},
   "source": [
    "### 將資料從Google Trend中抓下 "
   ]
  },
  {
   "cell_type": "code",
   "execution_count": 3,
   "metadata": {
    "collapsed": false,
    "scrolled": false
   },
   "outputs": [
    {
     "name": "stdout",
     "output_type": "stream",
     "text": [
      "150\n",
      "<type 'list'>\n",
      "[{\"v\":new Date(2004, 0, 16, 20, 0),\"f\":\"2004年1月\"},null,null,57,null,null,true]\n"
     ]
    }
   ],
   "source": [
    "from bs4 import BeautifulSoup\n",
    "import json\n",
    "import time\n",
    "\n",
    "res = requests.get('https://www.google.com.tw/trends/trendsReport?hl=zh-TW&q=%E4%B9%9D%E4%BB%BD&tz=Etc%2FGMT-8&content=1')\n",
    "soup = BeautifulSoup(res.text,'html5lib')\n",
    "res.encoding = 'utf-8'\n",
    "\n",
    "datas = soup.select('#TIMESERIES_GRAPH_0')[0]  #抓id='TIMESERIES_GRAPH_0'的內容\n",
    "# print(type(datas))  #<class 'bs4.element.Tag'>\n",
    "# print(datas)\n",
    "\n",
    "time.sleep(3)  #避免被擋掉，小睡一會兒\n",
    "\n",
    "data_sc = [s.extract() for s in datas.select('script')][0].text #只留<script>裡的資料\n",
    "\n",
    "#strip()將特殊字或空白去除;split(\" = \")[1]剖析並取出需要的內容=><type 'unicode'>\n",
    "datalist = data_sc.strip().split(\" = \")[1].split('\"rows\":[')[1].split('],\"showHeadlines\":')[0].replace('],[', ']+[').split(\"+\")\n",
    "print(len(datalist))\n",
    "print(type(datalist))\n",
    "print(datalist[0])\n",
    "\n",
    "data_total_list = []   #建立陣列\n",
    "#for i in range(0,len(datalist)):\n",
    "    #data_total_list.append(datalist[i])\n",
    "#print(data_total_list)\n"
   ]
  },
  {
   "cell_type": "code",
   "execution_count": 4,
   "metadata": {
    "collapsed": false
   },
   "outputs": [
    {
     "data": {
      "text/plain": [
       "u'[{\"v\":new Date(2004, 0, 16, 20, 0),\"f\":\"2004\\u5e741\\u6708\"},null,null,57,null,null,true]'"
      ]
     },
     "execution_count": 4,
     "metadata": {},
     "output_type": "execute_result"
    }
   ],
   "source": [
    "datalist[0]"
   ]
  },
  {
   "cell_type": "markdown",
   "metadata": {},
   "source": [
    "### 將抓下的資料剖析，只留下年、月、數值，且以Json格式呈現"
   ]
  },
  {
   "cell_type": "code",
   "execution_count": 39,
   "metadata": {
    "collapsed": false
   },
   "outputs": [
    {
     "name": "stdout",
     "output_type": "stream",
     "text": [
      "{'month': u'2', 'value': u'64', 'year': u'2004'}\n"
     ]
    }
   ],
   "source": [
    "# 因為我們要parse的是Javascript code，所以他沒辦法被轉換為Python的data structure，\n",
    "# 這邊我們只能透過regex（正規表達式）的方式來做字串的extract。\n",
    "import re\n",
    "\n",
    "res_list = []\n",
    "for data in datalist:\n",
    "#     print(data)\n",
    "    #抓時間點的搜尋數值\n",
    "    res_dict = {}\n",
    "    res = re.search(',([0-9]+),', data) # 搜尋包含在兩個,之中的任何長度數字=>從data中找到 \",(任一數字),\"\n",
    "#     print(res.group(1)) # group(1) 表示我們()內的capture group\n",
    "    \n",
    "    #抓時間點\n",
    "    pat='([0-9]+)年([0-9]+)月'.decode(\"utf8\") # 設定我們抓取中文的regex，注意這邊要先把str變成unicode\n",
    "    res2 = re.search(pat, data)\n",
    "    #print(res2)\n",
    "    res_dict['year'] = res2.group(1)  #定義key名稱='year'\n",
    "    res_dict['month'] = res2.group(2) #定義key名稱='month'\n",
    "    res_dict['value'] = res.group(1)  #定義key名稱='value'\n",
    "    res_list.append(res_dict)\n",
    "print(res_list[1])"
   ]
  },
  {
   "cell_type": "markdown",
   "metadata": {},
   "source": [
    "### 將Json格式資料寫到指定路徑之檔案，檔案結尾為今日日期"
   ]
  },
  {
   "cell_type": "code",
   "execution_count": 57,
   "metadata": {
    "collapsed": false
   },
   "outputs": [
    {
     "name": "stdout",
     "output_type": "stream",
     "text": [
      "2016-06-29\n"
     ]
    }
   ],
   "source": [
    "# print(type(res_list[0]))  #dict\n",
    "# print(len(res_list)) #150\n",
    "import datetime\n",
    "today = datetime.date.today()\n",
    "# print(today)\n",
    "\n",
    "fid = open(\"C:\\Users\\BIG DATA\\Desktop\\google_trend{}.txt\".format(today),\"w\")\n",
    "\n",
    "for one in res_list:\n",
    "    fid.write(str(one.items())) \n",
    "\n",
    "fid.close()"
   ]
  },
  {
   "cell_type": "code",
   "execution_count": 56,
   "metadata": {
    "collapsed": false
   },
   "outputs": [
    {
     "name": "stdout",
     "output_type": "stream",
     "text": [
      "2016-06-29\n"
     ]
    }
   ],
   "source": [
    "import datetime\n",
    "today = datetime.date.today()\n",
    "print(today)"
   ]
  }
 ],
 "metadata": {
  "kernelspec": {
   "display_name": "Python 2",
   "language": "python",
   "name": "python2"
  },
  "language_info": {
   "codemirror_mode": {
    "name": "ipython",
    "version": 2
   },
   "file_extension": ".py",
   "mimetype": "text/x-python",
   "name": "python",
   "nbconvert_exporter": "python",
   "pygments_lexer": "ipython2",
   "version": "2.7.11"
  },
  "widgets": {
   "state": {},
   "version": "1.1.1"
  }
 },
 "nbformat": 4,
 "nbformat_minor": 0
}
