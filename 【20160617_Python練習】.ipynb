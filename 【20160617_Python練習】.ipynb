{
 "cells": [
  {
   "cell_type": "code",
   "execution_count": 1,
   "metadata": {
    "collapsed": false,
    "scrolled": true
   },
   "outputs": [
    {
     "name": "stdout",
     "output_type": "stream",
     "text": [
      "Help on OutStream in module ipykernel.iostream object:\n",
      "\n",
      "class OutStream(__builtin__.object)\n",
      " |  A file like object that publishes the stream to a 0MQ PUB socket.\n",
      " |  \n",
      " |  Output is handed off to an IO Thread\n",
      " |  \n",
      " |  Methods defined here:\n",
      " |  \n",
      " |  __init__(self, session, pub_thread, name, pipe=None)\n",
      " |  \n",
      " |  __next__(self)\n",
      " |  \n",
      " |  close(self)\n",
      " |  \n",
      " |  fileno(self)\n",
      " |  \n",
      " |  flush(self)\n",
      " |      trigger actual zmq send\n",
      " |      \n",
      " |      send will happen in the background thread\n",
      " |  \n",
      " |  isatty(self)\n",
      " |  \n",
      " |  next = __next__(self)\n",
      " |  \n",
      " |  read(self, size=-1)\n",
      " |  \n",
      " |  readline(self, size=-1)\n",
      " |  \n",
      " |  set_parent(self, parent)\n",
      " |  \n",
      " |  write(self, string)\n",
      " |  \n",
      " |  writelines(self, sequence)\n",
      " |  \n",
      " |  ----------------------------------------------------------------------\n",
      " |  Data descriptors defined here:\n",
      " |  \n",
      " |  __dict__\n",
      " |      dictionary for instance variables (if defined)\n",
      " |  \n",
      " |  __weakref__\n",
      " |      list of weak references to the object (if defined)\n",
      " |  \n",
      " |  closed\n",
      " |  \n",
      " |  ----------------------------------------------------------------------\n",
      " |  Data and other attributes defined here:\n",
      " |  \n",
      " |  flush_interval = 0.2\n",
      " |  \n",
      " |  topic = None\n",
      "\n"
     ]
    }
   ],
   "source": [
    "from __future__ import print_function \n",
    "import sys\n",
    "# dir(sys.stdout)\n",
    "help(sys.stdout)"
   ]
  },
  {
   "cell_type": "code",
   "execution_count": 2,
   "metadata": {
    "collapsed": false
   },
   "outputs": [
    {
     "name": "stdout",
     "output_type": "stream",
     "text": [
      "7\n",
      "8\n",
      "0\n",
      "15\n",
      "0.6\n",
      "75.0\n"
     ]
    }
   ],
   "source": [
    "# 內建函數 (function) pow() ，印出參數 (parameter) object 的內容\n",
    "# sep 為分隔符號， end 為結尾符號， file 為輸出串流裝置，預設為 sys.stdout ，即是標準輸出裝置，通常會是螢幕\n",
    "# print('hello1', 'hello2', 'hello3', 'hello4',sep=\"\")\n",
    "\n",
    "a = 2 + 5\n",
    "print(a)\n",
    "print(3 + 5)\n",
    "print(3 / 5)\n",
    "print(3 * 5)\n",
    "print(3.00 / 5)\n",
    "print(15.00 * 5.00)"
   ]
  },
  {
   "cell_type": "code",
   "execution_count": 3,
   "metadata": {
    "collapsed": false
   },
   "outputs": [
    {
     "name": "stdout",
     "output_type": "stream",
     "text": [
      "50\n",
      "60\n",
      "70\n",
      "80\n",
      "90\n",
      "100\n"
     ]
    }
   ],
   "source": [
    "for i in range(5,11):\n",
    "    print(i*10)"
   ]
  },
  {
   "cell_type": "code",
   "execution_count": 4,
   "metadata": {
    "collapsed": false
   },
   "outputs": [
    {
     "name": "stdout",
     "output_type": "stream",
     "text": [
      "What is your name?Sofia\n",
      "Nice to meet you! Sofia\n"
     ]
    }
   ],
   "source": [
    "name = raw_input(\"What is your name?\")\n",
    "\n",
    "# print(\"Nice to meet you! \" + name)\n",
    "    \n",
    "if name == 'Sofia':\n",
    "    print(\"Nice to meet you! \" + name)\n",
    "else:\n",
    "    print(\"your name again?\")\n",
    "    "
   ]
  },
  {
   "cell_type": "code",
   "execution_count": 5,
   "metadata": {
    "collapsed": true
   },
   "outputs": [],
   "source": [
    "# USER自行定義方法: def = define \n",
    "def main(x):\n",
    "    print(\"HIHIHI & GoodMorning~! \" + x)"
   ]
  },
  {
   "cell_type": "code",
   "execution_count": 6,
   "metadata": {
    "collapsed": false
   },
   "outputs": [
    {
     "name": "stdout",
     "output_type": "stream",
     "text": [
      "HIHIHI & GoodMorning~! Sofia\n"
     ]
    }
   ],
   "source": [
    "# 使用自訂義之方法\n",
    "\n",
    "main('Sofia')\n"
   ]
  },
  {
   "cell_type": "code",
   "execution_count": 7,
   "metadata": {
    "collapsed": false
   },
   "outputs": [
    {
     "name": "stdout",
     "output_type": "stream",
     "text": [
      "What is your name? Sofia\n",
      "Nice to meet you!Sofia \n"
     ]
    }
   ],
   "source": [
    "name = raw_input(\"What is your name? \")\n",
    "\n",
    "if name == 'Sofia':\n",
    "    print(\"Nice to meet you!{} \".format(name))\n",
    "else:\n",
    "    print(\"your name again? Is it %s?\" %(name))"
   ]
  },
  {
   "cell_type": "code",
   "execution_count": 8,
   "metadata": {
    "collapsed": false
   },
   "outputs": [
    {
     "name": "stdout",
     "output_type": "stream",
     "text": [
      "What is your name? \n",
      "Sofia\n"
     ]
    }
   ],
   "source": [
    "print(\"What is your name? \")\n",
    "name = raw_input(\"\")"
   ]
  },
  {
   "cell_type": "code",
   "execution_count": 9,
   "metadata": {
    "collapsed": false
   },
   "outputs": [
    {
     "name": "stdout",
     "output_type": "stream",
     "text": [
      "Repeat Time: 4\n",
      "Qoo Qoo Qoo Qoo \n"
     ]
    }
   ],
   "source": [
    "count = input(\"Repeat Time: \")\n",
    "print(\"Qoo \" * int(count))"
   ]
  },
  {
   "cell_type": "code",
   "execution_count": 10,
   "metadata": {
    "collapsed": false
   },
   "outputs": [
    {
     "name": "stdout",
     "output_type": "stream",
     "text": [
      "請輸入分子: 25\n",
      "請輸入分母: 3\n",
      "8.33333333333\n"
     ]
    }
   ],
   "source": [
    "\n",
    "dividend = input(u'請輸入分子: ')\n",
    "divisor = input(u'請輸入分母: ')\n",
    "\n",
    "\n",
    "# IndentationError: unexpected indent =>縮排錯誤，導致無法順利編譯!\n",
    "\n",
    "try:\n",
    "    print(float(dividend) / float(divisor))\n",
    "except ZeroDivisionError as detail:\n",
    "    print(\"Error!!\", detail)\n",
    "    "
   ]
  },
  {
   "cell_type": "code",
   "execution_count": 11,
   "metadata": {
    "collapsed": false
   },
   "outputs": [
    {
     "name": "stdout",
     "output_type": "stream",
     "text": [
      "nice to meet you, Sofia!\n",
      "nice to meet you, Sofia Sofia Sofia!\n",
      "nice to meet you, Sofia Eva Eva!\n",
      "nice to meet you, Sofia Eva!\n",
      "nice to meet you, Sofia-Eva!\n"
     ]
    }
   ],
   "source": [
    "name = 'Sofia'\n",
    "print(\"nice to meet you, {}!\".format(name))\n",
    "print(\"nice to meet you, {0} {0} {0}!\".format(name))\n",
    "print(\"nice to meet you, {0} {1} {1}!\".format(name,\"Eva\"))\n",
    "\n",
    "print(\"nice to meet you, {} {}!\".format(name,\"Eva\"))\n",
    "print(\"nice to meet you, {}-{}!\".format(name,\"Eva\"))"
   ]
  },
  {
   "cell_type": "code",
   "execution_count": 12,
   "metadata": {
    "collapsed": false
   },
   "outputs": [
    {
     "name": "stdout",
     "output_type": "stream",
     "text": [
      "Hello world\n"
     ]
    }
   ],
   "source": [
    "\n",
    "a = \"Hello world\"\n",
    "print(a.__str__()) \n",
    "\n",
    "\n",
    "# dir(\"this is a string\")\n",
    "# a = \"this is a string\"\n",
    "# a.__str__()\n",
    "# print(a) \n",
    "# print(a.__str__())"
   ]
  },
  {
   "cell_type": "code",
   "execution_count": 13,
   "metadata": {
    "collapsed": false
   },
   "outputs": [
    {
     "name": "stdout",
     "output_type": "stream",
     "text": [
      "my age is 30\n"
     ]
    }
   ],
   "source": [
    "age = 30\n",
    "print(\"my age is \" + str(age))\n",
    "\n",
    "# print(\"my age is \" + age)  #cannot concatenate 'str' and 'int' objects\n"
   ]
  },
  {
   "cell_type": "code",
   "execution_count": 14,
   "metadata": {
    "collapsed": false
   },
   "outputs": [
    {
     "name": "stdout",
     "output_type": "stream",
     "text": [
      "\n",
      "\t this is a \t line with format \t\n",
      "\n",
      "\\n\\t this is a \\t line with format \\t\\n\n",
      "'\\n\\t this is a \\t line with format \\t\\n'\n"
     ]
    }
   ],
   "source": [
    "raw1 = '\\n\\t this is a \\t line with format \\t\\n'\n",
    "print(raw1)\n",
    "\n",
    "raw2 = r'\\n\\t this is a \\t line with format \\t\\n'\n",
    "print(raw2)\n",
    "\n",
    "raw3 = repr('\\n\\t this is a \\t line with format \\t\\n')\n",
    "print(raw3)\n"
   ]
  },
  {
   "cell_type": "code",
   "execution_count": 15,
   "metadata": {
    "collapsed": false
   },
   "outputs": [
    {
     "name": "stdout",
     "output_type": "stream",
     "text": [
      "['Qoo', 'love', 'OOP']\n",
      "QOO LOVE OOP\n",
      "Qoo Love Oop\n",
      "qoo love oop\n",
      "False\n",
      "Qoo+love+OOP\n"
     ]
    }
   ],
   "source": [
    "str = \"Qoo love OOP\"\n",
    "print(str.split()) #切割\n",
    "print(str.upper()) #字串全部轉大寫\n",
    "print(str.title()) #字串字首轉大寫，其餘都小寫\n",
    "print(str.lower()) #字串全部轉小寫\n",
    "\n",
    "print('a' in str)  #in可判斷指定之字元或字串是否出現在變數字串中。若存在回傳True，反之為False!\n",
    "\n",
    "print(\"+\".join(str.split()))"
   ]
  },
  {
   "cell_type": "code",
   "execution_count": 16,
   "metadata": {
    "collapsed": false
   },
   "outputs": [
    {
     "name": "stdout",
     "output_type": "stream",
     "text": [
      "The result are 3.14 and 5\n"
     ]
    }
   ],
   "source": [
    "print('The result are %.02f and %d' %(3.14159, 5))"
   ]
  },
  {
   "cell_type": "code",
   "execution_count": 17,
   "metadata": {
    "collapsed": false
   },
   "outputs": [
    {
     "name": "stdout",
     "output_type": "stream",
     "text": [
      "3\n",
      "[5, 6, 7, [2, 3, 4]]\n",
      "[5, 6, 7, [2, 3, 4], 3]\n",
      "[5, 7, 3]\n",
      "[3, [2, 3, 4], 7, 6, 5]\n",
      "[3, 7, 5]\n",
      "5\n",
      "3 [2, 3, 4]\n"
     ]
    }
   ],
   "source": [
    "# a = [5, 6, 7, 'a', [2, 3, 4]]\n",
    "a = [5, 6, 7, [2, 3, 4] , 3]\n",
    "\n",
    "print(a[4])\n",
    "print(a[:4])\n",
    "print(a[::])\n",
    "print(a[::2])\n",
    "print(a[::-1])\n",
    "print(a[::-2])\n",
    "\n",
    "print(len(a))\n",
    "print(min(a) , max(a))"
   ]
  },
  {
   "cell_type": "code",
   "execution_count": 18,
   "metadata": {
    "collapsed": false
   },
   "outputs": [
    {
     "name": "stdout",
     "output_type": "stream",
     "text": [
      "cat\n",
      "[5, 6, 7, 'a', [2, 3, 4]]\n",
      "None\n",
      "[5, 6, 7, 'a', [2, 3, 4], 'dog']\n",
      "None\n",
      "[5, 6, 7, [2, 3, 4], 'a', 'dog']\n",
      "None\n",
      "['dog', 'a', [2, 3, 4], 7, 6, 5]\n"
     ]
    }
   ],
   "source": [
    "a = [5, 6, 7, 'a', [2, 3, 4], \"cat\"]\n",
    "\n",
    "# a.pop()\n",
    "print(a.pop())\n",
    "print(a)\n",
    "\n",
    "print(a.append(\"dog\"))\n",
    "print(a)\n",
    "\n",
    "print(a.sort())\n",
    "print(a)\n",
    "\n",
    "print(a.reverse())\n",
    "print(a)"
   ]
  },
  {
   "cell_type": "code",
   "execution_count": 19,
   "metadata": {
    "collapsed": false
   },
   "outputs": [
    {
     "name": "stdout",
     "output_type": "stream",
     "text": [
      "['a', 'b', 'c']\n",
      "['h', 'e', 'l', 'l', 'o', ' ', 'w', 'o', 'r', 'l', 'd']\n",
      "True\n",
      "False\n"
     ]
    }
   ],
   "source": [
    "list('abc')\n",
    "print(list('abc'))\n",
    "\n",
    "hello = list('hello world')\n",
    "print(hello)\n",
    "\n",
    "print('e' in hello)\n",
    "print('a' in hello)"
   ]
  },
  {
   "cell_type": "code",
   "execution_count": 20,
   "metadata": {
    "collapsed": false
   },
   "outputs": [
    {
     "name": "stdout",
     "output_type": "stream",
     "text": [
      "[1, 2, 3000, 4]\n",
      "[1, 2, 3000, 4]\n"
     ]
    }
   ],
   "source": [
    "a1 = [1, 2, 3, 4]\n",
    "b1 = a1\n",
    "a1[2] = 3000\n",
    "print(a1)\n",
    "print(b1)"
   ]
  },
  {
   "cell_type": "code",
   "execution_count": 21,
   "metadata": {
    "collapsed": false
   },
   "outputs": [
    {
     "name": "stdout",
     "output_type": "stream",
     "text": [
      "[1, 2, 3000, 4]\n",
      "[1, 2, 3, 4]\n"
     ]
    }
   ],
   "source": [
    "import copy\n",
    "a2 = [1, 2, 3, 4]\n",
    "b2 = copy.deepcopy(a2)\n",
    "a2[2] = 3000\n",
    "print(a2)\n",
    "print(b2)"
   ]
  },
  {
   "cell_type": "code",
   "execution_count": 22,
   "metadata": {
    "collapsed": false
   },
   "outputs": [
    {
     "data": {
      "text/plain": [
       "['Error',\n",
       " 'PyStringMap',\n",
       " '_EmptyClass',\n",
       " '__all__',\n",
       " '__builtins__',\n",
       " '__doc__',\n",
       " '__file__',\n",
       " '__name__',\n",
       " '__package__',\n",
       " '_copy_dispatch',\n",
       " '_copy_immutable',\n",
       " '_copy_inst',\n",
       " '_copy_with_constructor',\n",
       " '_copy_with_copy_method',\n",
       " '_deepcopy_atomic',\n",
       " '_deepcopy_dict',\n",
       " '_deepcopy_dispatch',\n",
       " '_deepcopy_inst',\n",
       " '_deepcopy_list',\n",
       " '_deepcopy_method',\n",
       " '_deepcopy_tuple',\n",
       " '_keep_alive',\n",
       " '_reconstruct',\n",
       " '_test',\n",
       " 'copy',\n",
       " 'deepcopy',\n",
       " 'dispatch_table',\n",
       " 'error',\n",
       " 'name',\n",
       " 't',\n",
       " 'weakref']"
      ]
     },
     "execution_count": 22,
     "metadata": {},
     "output_type": "execute_result"
    }
   ],
   "source": [
    "dir(copy)"
   ]
  },
  {
   "cell_type": "code",
   "execution_count": 23,
   "metadata": {
    "collapsed": false
   },
   "outputs": [
    {
     "ename": "NameError",
     "evalue": "name 'squares' is not defined",
     "output_type": "error",
     "traceback": [
      "\u001b[1;31m---------------------------------------------------------------------------\u001b[0m",
      "\u001b[1;31mNameError\u001b[0m                                 Traceback (most recent call last)",
      "\u001b[1;32m<ipython-input-23-446618c9a1fa>\u001b[0m in \u001b[0;36m<module>\u001b[1;34m()\u001b[0m\n\u001b[0;32m      5\u001b[0m \u001b[1;31m#     print(square)\u001b[0m\u001b[1;33m\u001b[0m\u001b[1;33m\u001b[0m\u001b[0m\n\u001b[0;32m      6\u001b[0m     \u001b[0msquares1\u001b[0m\u001b[1;33m.\u001b[0m\u001b[0mappend\u001b[0m\u001b[1;33m(\u001b[0m\u001b[0msquare\u001b[0m\u001b[1;33m)\u001b[0m\u001b[1;33m\u001b[0m\u001b[0m\n\u001b[1;32m----> 7\u001b[1;33m \u001b[1;32mprint\u001b[0m\u001b[1;33m(\u001b[0m\u001b[1;34m\"squares1: \"\u001b[0m\u001b[1;33m,\u001b[0m \u001b[0msquares\u001b[0m\u001b[1;33m)\u001b[0m\u001b[1;33m\u001b[0m\u001b[0m\n\u001b[0m\u001b[0;32m      8\u001b[0m \u001b[1;33m\u001b[0m\u001b[0m\n\u001b[0;32m      9\u001b[0m \u001b[0msquares2\u001b[0m \u001b[1;33m=\u001b[0m \u001b[1;33m[\u001b[0m\u001b[0mn\u001b[0m\u001b[1;33m*\u001b[0m\u001b[0mn\u001b[0m\u001b[1;33m*\u001b[0m\u001b[0mn\u001b[0m \u001b[1;32mfor\u001b[0m \u001b[0mn\u001b[0m \u001b[1;32min\u001b[0m \u001b[0mnums\u001b[0m\u001b[1;33m]\u001b[0m\u001b[1;33m\u001b[0m\u001b[0m\n",
      "\u001b[1;31mNameError\u001b[0m: name 'squares' is not defined"
     ]
    }
   ],
   "source": [
    "nums = [1, 2, 3, 4, 5]\n",
    "squares1 = []\n",
    "for n in nums:\n",
    "    square = n*n*n\n",
    "#     print(square)\n",
    "    squares1.append(square)\n",
    "print(\"squares1: \", squares)\n",
    "\n",
    "squares2 = [n*n*n for n in nums]\n",
    "print(\"squares2: \", squares2)"
   ]
  },
  {
   "cell_type": "code",
   "execution_count": 24,
   "metadata": {
    "collapsed": false
   },
   "outputs": [
    {
     "name": "stdout",
     "output_type": "stream",
     "text": [
      "1\n"
     ]
    }
   ],
   "source": [
    "print(5%2) #求餘數"
   ]
  },
  {
   "cell_type": "code",
   "execution_count": 25,
   "metadata": {
    "collapsed": false
   },
   "outputs": [
    {
     "name": "stdout",
     "output_type": "stream",
     "text": [
      "[2, 4, 8]\n"
     ]
    }
   ],
   "source": [
    "nums = [2, 4, 5, 8, 13]\n",
    "small = [n for n in nums if n%2 == 0]  #判斷若元素可被2整除，則將值印出\n",
    "print(small)"
   ]
  },
  {
   "cell_type": "code",
   "execution_count": 26,
   "metadata": {
    "collapsed": false
   },
   "outputs": [
    {
     "name": "stdout",
     "output_type": "stream",
     "text": [
      "afruits_1:  ['APPLE', 'BANNANA']\n",
      "afruits_2:  ['APPLE', 'BANNANA']\n"
     ]
    }
   ],
   "source": [
    "# 方法_1\n",
    "fruits = ['apple', 'cherry', 'bannana', 'lemon']\n",
    "afruits = [s.upper() for s in fruits if 'a' in s]\n",
    "print(\"afruits_1: \", afruits)\n",
    "\n",
    "# 方法_2\n",
    "afruits = []\n",
    "for s in fruits:\n",
    "    if 'a' in s:\n",
    "        afruits.append(s.upper() )\n",
    "print(\"afruits_2: \", afruits)\n"
   ]
  },
  {
   "cell_type": "code",
   "execution_count": 27,
   "metadata": {
    "collapsed": false
   },
   "outputs": [
    {
     "name": "stdout",
     "output_type": "stream",
     "text": [
      "1\n",
      "9  was not in the list\n",
      "2\n",
      "9  was not in the list\n",
      "3\n",
      "9  was not in the list\n",
      "4\n",
      "9  was not in the list\n",
      "5\n",
      "9  was not in the list\n",
      "6\n",
      "9  was not in the list\n",
      "7\n",
      "9  was not in the list\n",
      "8\n",
      "8  found!\n",
      "9\n",
      "9  found!\n"
     ]
    }
   ],
   "source": [
    "# if-else\n",
    "import sys\n",
    "a = 9\n",
    "b = 8\n",
    "for i in xrange(1, 10):\n",
    "    print(i)\n",
    "    if i == a:\n",
    "        print(a, ' found!')\n",
    "        break\n",
    "    elif i == b:\n",
    "        print(b, ' found!')\n",
    "    else:\n",
    "        print(a, ' was not in the list')\n"
   ]
  },
  {
   "cell_type": "code",
   "execution_count": 28,
   "metadata": {
    "collapsed": false
   },
   "outputs": [
    {
     "name": "stdout",
     "output_type": "stream",
     "text": [
      "1\n",
      "6\n",
      "11\n",
      "16\n",
      "21\n",
      "26\n",
      "31\n",
      "36\n",
      "41\n",
      "46\n"
     ]
    }
   ],
   "source": [
    "for i in xrange(1, 50, 5):\n",
    "    print(i)"
   ]
  },
  {
   "cell_type": "code",
   "execution_count": 29,
   "metadata": {
    "collapsed": false
   },
   "outputs": [
    {
     "name": "stdout",
     "output_type": "stream",
     "text": [
      "51\n"
     ]
    }
   ],
   "source": [
    "i = 0\n",
    "sum = 0\n",
    "while(i < 101):\n",
    "    sum += 1\n",
    "    i += 2\n",
    "print(sum)"
   ]
  },
  {
   "cell_type": "code",
   "execution_count": 30,
   "metadata": {
    "collapsed": false
   },
   "outputs": [
    {
     "name": "stdout",
     "output_type": "stream",
     "text": [
      "1\n",
      "2\n",
      "3\n",
      "4\n",
      "5\n",
      "6\n",
      "7\n",
      "8\n",
      "8  found!\n",
      "9\n",
      "9  found!\n"
     ]
    }
   ],
   "source": [
    "# if-else\n",
    "import sys\n",
    "a = 9\n",
    "b = 8\n",
    "for i in xrange(1, 10):\n",
    "    print(i)\n",
    "    if i == a:\n",
    "        print(a, ' found!')\n",
    "        break\n",
    "    elif i == b:\n",
    "        print(b, ' found!')\n",
    "    else:\n",
    "        pass"
   ]
  },
  {
   "cell_type": "code",
   "execution_count": 31,
   "metadata": {
    "collapsed": false
   },
   "outputs": [
    {
     "name": "stdout",
     "output_type": "stream",
     "text": [
      "1\n",
      "2\n",
      "3\n",
      "4\n",
      "5\n",
      "++++++++++\n",
      "a\n",
      "b\n",
      "c\n",
      "d\n",
      "e\n",
      "f\n",
      "++++++++++\n"
     ]
    }
   ],
   "source": [
    "a = [1, 2, 3, 4, 5]\n",
    "for i in a:\n",
    "    print(i)\n",
    "print('+' * 10)\n",
    "\n",
    "list='abcdef'\n",
    "for i in list:\n",
    "    print(i)\n",
    "print('+' * 10)"
   ]
  },
  {
   "cell_type": "code",
   "execution_count": 32,
   "metadata": {
    "collapsed": false
   },
   "outputs": [
    {
     "name": "stdout",
     "output_type": "stream",
     "text": [
      "2002 1001\n"
     ]
    }
   ],
   "source": [
    "i = 0\n",
    "sum = 0\n",
    "while True:\n",
    "    sum += 2\n",
    "    i += 1\n",
    "    \n",
    "    if i > 1000:\n",
    "        break\n",
    "print(sum, i)"
   ]
  },
  {
   "cell_type": "code",
   "execution_count": 33,
   "metadata": {
    "collapsed": false
   },
   "outputs": [
    {
     "name": "stdout",
     "output_type": "stream",
     "text": [
      "[('Abby', 1), ('Betty', 2), ('Ken', 3), ('Danis', 4), ('Fei', 5)]\n",
      "Abby 1\n",
      "Betty 2\n",
      "Ken 3\n",
      "Danis 4\n",
      "Fei 5\n"
     ]
    }
   ],
   "source": [
    "number = ['Abby', 'Betty', 'Ken', 'Danis', 'Fei']\n",
    "name = [1, 2, 3, 4, 5]\n",
    "nn = []\n",
    "for n in zip(number, name):\n",
    "    nn.append(n)\n",
    "print(nn)\n",
    "\n",
    "for name, number in nn:\n",
    "    print(name, number)\n",
    "    "
   ]
  },
  {
   "cell_type": "code",
   "execution_count": 34,
   "metadata": {
    "collapsed": false
   },
   "outputs": [
    {
     "name": "stdout",
     "output_type": "stream",
     "text": [
      "14\n"
     ]
    }
   ],
   "source": [
    "def add_num(a,b):\n",
    "    return a+b\n",
    "\n",
    "print(add_num(5,9))"
   ]
  },
  {
   "cell_type": "code",
   "execution_count": 35,
   "metadata": {
    "collapsed": false
   },
   "outputs": [
    {
     "name": "stdout",
     "output_type": "stream",
     "text": [
      "3.0\n",
      "2.0\n"
     ]
    }
   ],
   "source": [
    "import math\n",
    "a = math.ceil(5.3/2.0)\n",
    "b = math.floor(5.3/2.0)\n",
    "\n",
    "print(a)\n",
    "print(b)"
   ]
  },
  {
   "cell_type": "code",
   "execution_count": 36,
   "metadata": {
    "collapsed": false
   },
   "outputs": [
    {
     "name": "stdout",
     "output_type": "stream",
     "text": [
      "{'a': 'hello', 'c': 5.2, 'b': 100, 'd': 16.5}\n",
      "['a', 'c', 'b', 'd']\n",
      "['hello', 5.2, 100, 16.5]\n",
      "[('a', 'hello'), ('c', 5.2), ('b', 100), ('d', 16.5)]\n",
      "5.2\n",
      "100\n"
     ]
    }
   ],
   "source": [
    "dic = {'a':'hello', 'b':20, 'c':5.2, 'b':100, 'd':16.5} #'b':重複輸入\n",
    "print(dic)\n",
    "\n",
    "print(dic.keys())\n",
    "print(dic.values())\n",
    "print(dic.items())\n",
    "\n",
    "print(dic['c'])\n",
    "print(dic.get('b'))"
   ]
  },
  {
   "cell_type": "code",
   "execution_count": 37,
   "metadata": {
    "collapsed": false
   },
   "outputs": [
    {
     "name": "stdout",
     "output_type": "stream",
     "text": [
      "['apple', 'ball', 'cat', 'apple']\n"
     ]
    }
   ],
   "source": [
    "words = ['apple' , 'ball', 'cat']\n",
    "for i in words[:]:\n",
    "    if len(i) > 4:\n",
    "        words.insert(len(i), i)\n",
    "print(words)\n",
    "\n",
    "# words = ['cat', 'window', 'defenestrate']\n",
    "# for w in words[:]: # words[:] is a copy of the words list\n",
    "#     if len(w) > 6:\n",
    "#         words.insert(0, w)\n",
    "# print(words)"
   ]
  },
  {
   "cell_type": "code",
   "execution_count": 38,
   "metadata": {
    "collapsed": false
   },
   "outputs": [
    {
     "name": "stdout",
     "output_type": "stream",
     "text": [
      "{'a': 'hello', 'c': 5.2, 'b': 100, 'e': 'apple', 'd': 16.5}\n"
     ]
    }
   ],
   "source": [
    "dic['e'] = 'apple'\n",
    "print(dic)"
   ]
  },
  {
   "cell_type": "code",
   "execution_count": 39,
   "metadata": {
    "collapsed": false
   },
   "outputs": [
    {
     "name": "stdout",
     "output_type": "stream",
     "text": [
      "{'a': 'hello', 'c': 5.2, 'b': 100, 'e': 'banana', 'd': 16.5}\n"
     ]
    }
   ],
   "source": [
    "dic.update({'e' :'banana'})\n",
    "print(dic)"
   ]
  },
  {
   "cell_type": "code",
   "execution_count": 40,
   "metadata": {
    "collapsed": false
   },
   "outputs": [
    {
     "name": "stdout",
     "output_type": "stream",
     "text": [
      "a - hello\n",
      "c - 5.2\n",
      "b - 100\n",
      "e - banana\n",
      "d - 16.5\n",
      "====================\n",
      "a -- hello\n",
      "c -- 5.2\n",
      "b -- 100\n",
      "e -- banana\n",
      "d -- 16.5\n"
     ]
    }
   ],
   "source": [
    "for key, val in dic.items():\n",
    "    print(key,\"-\",val)\n",
    "\n",
    "print(\"=\" * 20)\n",
    "    \n",
    "for key in dic:\n",
    "    print(key,\"--\",dic[key])"
   ]
  },
  {
   "cell_type": "code",
   "execution_count": 41,
   "metadata": {
    "collapsed": false
   },
   "outputs": [
    {
     "name": "stdout",
     "output_type": "stream",
     "text": [
      "1\n",
      "4\n",
      "27\n",
      "256\n",
      "3125\n",
      "====================\n",
      "6\n",
      "14\n",
      "24\n",
      "36\n",
      "50\n"
     ]
    }
   ],
   "source": [
    "# lambda :用來建立無名函數 (anonymous function)。\n",
    "f = lambda x: x ** x\n",
    "print(f(1))\n",
    "print(f(2))\n",
    "print(f(3))\n",
    "print(f(4))\n",
    "print(f(5))\n",
    "\n",
    "print('='*20)\n",
    "g = lambda x, y: x * y\n",
    "print(g(1, 6))\n",
    "print(g(2, 7))\n",
    "print(g(3, 8))\n",
    "print(g(4, 9))\n",
    "print(g(5, 10))"
   ]
  },
  {
   "cell_type": "code",
   "execution_count": 42,
   "metadata": {
    "collapsed": false
   },
   "outputs": [
    {
     "data": {
      "text/plain": [
       "1"
      ]
     },
     "execution_count": 42,
     "metadata": {},
     "output_type": "execute_result"
    }
   ],
   "source": [
    "def func(x):\n",
    "    return{'a' : 1, 'b' : 2}.get(x,0)\n",
    "\n",
    "func('a')"
   ]
  },
  {
   "cell_type": "code",
   "execution_count": 43,
   "metadata": {
    "collapsed": false
   },
   "outputs": [],
   "source": [
    "class Person():\n",
    "    count=0\n",
    "    def __init__(self, name, city):\n",
    "        self.name = name\n",
    "        self.city = city\n",
    "        Person.count +=1\n",
    "\n",
    "    def number_of_persons(self):\n",
    "        return Person.count"
   ]
  },
  {
   "cell_type": "code",
   "execution_count": 44,
   "metadata": {
    "collapsed": false
   },
   "outputs": [
    {
     "name": "stdout",
     "output_type": "stream",
     "text": [
      "1\n",
      "1\n",
      "Sean\n",
      "Tokyo\n"
     ]
    }
   ],
   "source": [
    "p1 = Person(\"Sean\", \"Tokyo\")\n",
    "print(p1.count)\n",
    "print(p1.number_of_persons())\n",
    "print(p1.name)\n",
    "print(p1.city)\n"
   ]
  },
  {
   "cell_type": "code",
   "execution_count": 45,
   "metadata": {
    "collapsed": false
   },
   "outputs": [
    {
     "name": "stdout",
     "output_type": "stream",
     "text": [
      "2\n",
      "2\n",
      "Sofia\n",
      "Taipei\n",
      "3\n",
      "3\n",
      "Ben\n",
      "New York\n"
     ]
    }
   ],
   "source": [
    "p2 = Person(\"Sofia\", \"Taipei\")\n",
    "print(p2.count)\n",
    "print(p2.number_of_persons())\n",
    "print(p2.name)\n",
    "print(p2.city)\n",
    "\n",
    "p3 = Person(\"Ben\", \"New York\")\n",
    "print(p3.count)\n",
    "print(p3.number_of_persons())\n",
    "print(p3.name)\n",
    "print(p3.city)"
   ]
  },
  {
   "cell_type": "code",
   "execution_count": 46,
   "metadata": {
    "collapsed": false
   },
   "outputs": [
    {
     "data": {
      "text/plain": [
       "3"
      ]
     },
     "execution_count": 46,
     "metadata": {},
     "output_type": "execute_result"
    }
   ],
   "source": [
    "Person.count"
   ]
  },
  {
   "cell_type": "code",
   "execution_count": 47,
   "metadata": {
    "collapsed": false
   },
   "outputs": [
    {
     "data": {
      "text/plain": [
       "3"
      ]
     },
     "execution_count": 47,
     "metadata": {},
     "output_type": "execute_result"
    }
   ],
   "source": [
    "Person.number_of_persons(p1)\n",
    "p1.number_of_persons()\n",
    "# Person.number_of_persons()"
   ]
  },
  {
   "cell_type": "code",
   "execution_count": 48,
   "metadata": {
    "collapsed": false
   },
   "outputs": [
    {
     "data": {
      "text/plain": [
       "3"
      ]
     },
     "execution_count": 48,
     "metadata": {},
     "output_type": "execute_result"
    }
   ],
   "source": [
    "(1).__add__(2)"
   ]
  },
  {
   "cell_type": "code",
   "execution_count": 49,
   "metadata": {
    "collapsed": false
   },
   "outputs": [
    {
     "data": {
      "text/plain": [
       "7.3"
      ]
     },
     "execution_count": 49,
     "metadata": {},
     "output_type": "execute_result"
    }
   ],
   "source": [
    "(5.3).__add__(2)"
   ]
  },
  {
   "cell_type": "code",
   "execution_count": null,
   "metadata": {
    "collapsed": true
   },
   "outputs": [],
   "source": []
  },
  {
   "cell_type": "code",
   "execution_count": null,
   "metadata": {
    "collapsed": true
   },
   "outputs": [],
   "source": []
  }
 ],
 "metadata": {
  "kernelspec": {
   "display_name": "Python 2",
   "language": "python",
   "name": "python2"
  },
  "language_info": {
   "codemirror_mode": {
    "name": "ipython",
    "version": 2
   },
   "file_extension": ".py",
   "mimetype": "text/x-python",
   "name": "python",
   "nbconvert_exporter": "python",
   "pygments_lexer": "ipython2",
   "version": "2.7.11"
  }
 },
 "nbformat": 4,
 "nbformat_minor": 0
}
